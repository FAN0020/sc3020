{
 "cells": [
  {
   "cell_type": "code",
   "execution_count": 2,
   "id": "cfce1cb66049136d",
   "metadata": {
    "collapsed": true,
    "ExecuteTime": {
     "end_time": "2023-11-18T10:49:22.239076Z",
     "start_time": "2023-11-18T10:49:21.423863700Z"
    }
   },
   "outputs": [],
   "source": [
    "# import libraries\n",
    "import os\n",
    "\n",
    "import dotenv\n",
    "import psycopg2\n",
    "import pandas as pd\n",
    "import networkx as nx\n",
    "import pygraphviz as pgv\n",
    "\n",
    "# define functions\n",
    "\n",
    "# function to run sql to retrieve QEP of query. \n",
    "def retrieveQEP(sql):\n",
    "    # adds explain line to retrieve query details including QEP\n",
    "    sql_exp = \"explain (analyze, costs, verbose, buffers, format json) \" + sql\n",
    "\n",
    "    # execute query\n",
    "    qep = executeQuery(sql_exp)\n",
    "\n",
    "    # edit result to contain dictionary of query plan.\n",
    "    while(type(qep)!=dict):\n",
    "        qep = qep[0]\n",
    "\n",
    "    return qep\n",
    "\n",
    "# function to run sql query and rerieve results (dataframe)\n",
    "def retrieveResult(sql,columns):\n",
    "    # execute query\n",
    "    result = executeQuery(sql)\n",
    "    df = pd.DataFrame(result,columns=columns)\n",
    "    return df\n",
    "\n",
    "dotenv.load_dotenv()\n",
    "# a function to connect to DB and execute query, returning results of query\n",
    "def executeQuery(sql):\n",
    "    # connect to database. \n",
    "    # edit values according to your own database.\n",
    "    conn = psycopg2.connect(database=os.getenv(\"DATABASE\"),\n",
    "                            host=\"localhost\",\n",
    "                            user=\"postgres\",\n",
    "                            password=os.getenv(\"PASSWORD\"),\n",
    "                            port=\"5432\")\n",
    "\n",
    "    cursor = conn.cursor()\n",
    "\n",
    "    # run query and retrieve results\n",
    "    cursor.execute(sql) \n",
    "    result = cursor.fetchall() \n",
    "\n",
    "    conn.commit() \n",
    "    conn.close() \n",
    "\n",
    "    #return results\n",
    "    return result\n",
    "\n",
    "# break down current node and get node details.\n",
    "def breakdown(curNode):\n",
    "    results ={}\n",
    "    results[\"node\"] = {}\n",
    "    results[\"vertices\"] = set()\n",
    "    results['edges'] = set()\n",
    "    results[\"sql\"] = {}\n",
    "\n",
    "    # get details of current node.\n",
    "    nodeDetails = getNodeDetails(curNode)\n",
    "    # print(nodeDetails)\n",
    "    results[\"node\"][nodeDetails[\"string\"]] = nodeDetails\n",
    "    results[\"vertices\"].add(nodeDetails[\"string\"])\n",
    "    results['sql'][nodeDetails[\"string\"]] = getSQL(nodeDetails)\n",
    "\n",
    "\n",
    "    # break down child node\n",
    "    if \"Plans\" in curNode:\n",
    "        childSiblings = []\n",
    "        for node in curNode[\"Plans\"]:\n",
    "            childNodeDetails = getNodeDetails(node)\n",
    "            results[\"edges\"].add((nodeDetails[\"string\"],childNodeDetails[\"string\"]))\n",
    "            child_results = breakdown(node)\n",
    "            results[\"node\"].update(child_results[\"node\"])\n",
    "            results[\"vertices\"].update(child_results[\"vertices\"])\n",
    "            results[\"edges\"].update(child_results[\"edges\"])\n",
    "            results[\"sql\"].update(child_results[\"sql\"])\n",
    "            results['sql'][nodeDetails[\"string\"]] = updateSQL(results['sql'][nodeDetails[\"string\"]],\n",
    "                                                              results['sql'][childNodeDetails[\"string\"]])\n",
    "            results[\"node\"][childNodeDetails[\"string\"]]['siblings'] = childSiblings\n",
    "            childSiblings.append(childNodeDetails[\"string\"])\n",
    "            \n",
    "    return results\n",
    "\n",
    "def getIntermediateResults(results):\n",
    "    for node in results['node']:\n",
    "        result, accessResult = getQueryResults(results['sql'][node],results,node)\n",
    "        for col in result.columns:\n",
    "            if 'ctid' in col:\n",
    "                result['block'] = result[col].apply(lambda x: int((x.replace(\"(\",\"\").replace(\")\",\"\")).split(\",\")[0]))\n",
    "                result['tuple'] = result[col].apply(lambda x: int((x.replace(\"(\",\"\").replace(\")\",\"\")).split(\",\")[1]))\n",
    "                results['sql'][node]['resultBlockAccess'] = result.groupby('block')['tuple'].apply(list)\n",
    "                break\n",
    "\n",
    "        results['sql'][node][\"result\"] = result\n",
    "\n",
    "        print(type(accessResult))\n",
    "        if type(accessResult) != type(None): \n",
    "            for col in result.columns:\n",
    "                if 'ctid' in col:\n",
    "                    accessResult['block'] = accessResult[col].apply(lambda x: int((x.replace(\"(\",\"\").replace(\")\",\"\")).split(\",\")[0]))\n",
    "                    accessResult['tuple'] = accessResult[col].apply(lambda x: int((x.replace(\"(\",\"\").replace(\")\",\"\")).split(\",\")[1]))\n",
    "                    results['sql'][node][\"accessResultBlockAccess\"] = accessResult.groupby('block')['tuple'].apply(list)\n",
    "                    break\n",
    "        elif 'Relation Name' in results[\"node\"][node]: \n",
    "            results['sql'][node][\"RelationBlocks\"] = executeQuery(\"SELECT relpages FROM pg_class WHERE relname = '\" + results[\"node\"][node][\"Relation Name\"]+\"';\")[0][0]\n",
    "            \n",
    "    return results\n",
    "\n",
    "\n",
    "# a function get details of a node.\n",
    "def getNodeDetails(node):\n",
    "    details = {}\n",
    "\n",
    "    # get node type\n",
    "    details[\"Node Type\"] = node[\"Node Type\"]\n",
    "    detailString = str(details[\"Node Type\"])\n",
    "\n",
    "    # get node conditions when needed\n",
    "    values = getKeyValues(node, \"cond\")\n",
    "    if len(values) > 0:\n",
    "        details[\"Cond\"] = values\n",
    "        if type(details[\"Cond\"]) != list:\n",
    "            detailString += \"\\nby \" + details[\"Cond\"]\n",
    "        else:\n",
    "            detailString += \"\\nby \" + \",\".join(details[\"Cond\"])\n",
    "\n",
    "    # get filter information when needed\n",
    "    if \"Filter\" in node:\n",
    "        details[\"Filter\"] = node[\"Filter\"]\n",
    "        if type(details[\"Filter\"]) != list:\n",
    "            detailString += \"\\nby \" + details[\"Filter\"]\n",
    "        else:\n",
    "            detailString += \"\\nby \" + \",\".join(details[\"Filter\"])\n",
    "\n",
    "    # get group key\n",
    "    if \"Group Key\" in node:\n",
    "        details[\"Group Key\"] = node[\"Group Key\"]\n",
    "        if type(details[\"Group Key\"]) != list:\n",
    "            detailString += \"\\ngroup by \" + details[\"Group Key\"]\n",
    "        else:\n",
    "            detailString += \"\\ngroup by\" + \",\".join(details[\"Group Key\"])\n",
    "\n",
    "    # get sort key\n",
    "    if \"Sort Key\" in node:\n",
    "        details[\"Sort Key\"] = node[\"Sort Key\"]\n",
    "        if type(details[\"Sort Key\"]) != list:\n",
    "            detailString += \"\\nsort by \" + details[\"Sort Key\"]\n",
    "        else:\n",
    "            detailString += \"\\nsort by \" + \",\".join(details[\"Sort Key\"])\n",
    "\n",
    "    # get method when necessary\n",
    "    values = getKeyValues(node, \"method\")\n",
    "    if len(values) > 0:\n",
    "        details[\"Method\"] = values\n",
    "        if type(details[\"Method\"]) == str:\n",
    "            detailString += \"\\nusing \" + details[\"Method\"]\n",
    "        else:\n",
    "            detailString += \"\\nusing \" + \",\".join(details[\"Method\"])\n",
    "\n",
    "    # get relations\n",
    "    if \"Relation Name\" in node:\n",
    "        details[\"Relation Name\"] = node[\"Relation Name\"]\n",
    "        if type(details[\"Relation Name\"]) == str:\n",
    "            detailString += \"\\non \" + details[\"Relation Name\"]\n",
    "        else:\n",
    "            detailString += \"\\non \" + \",\".join(details[\"Relation Name\"])\n",
    "\n",
    "    if \"Alias\" in node:\n",
    "        details[\"Alias\"] = node[\"Alias\"]\n",
    "        if type(details[\"Alias\"]) is str:\n",
    "            detailString += \"\\non \" + details[\"Alias\"]\n",
    "        else:\n",
    "            detailString += \"\\non \" + \",\".join(details[\"Alias\"])\n",
    "\n",
    "    # get output column details\n",
    "    if \"Output\" in node:\n",
    "        details[\"Output\"] = node[\"Output\"]\n",
    "        if type(details[\"Output\"]) == str:\n",
    "            detailString += \"\\n\" + details[\"Output\"]\n",
    "        else:\n",
    "            detailString += \"\\n\" + \",\".join(details[\"Output\"])\n",
    "\n",
    "    # get string value to be shown on node.\n",
    "    details[\"string\"] = detailString\n",
    "    return details\n",
    "\n",
    "\n",
    "def concatRelationAlias(relation, alias):\n",
    "    if relation == alias:\n",
    "        return relation\n",
    "    else:\n",
    "        return relation + \" \" + alias\n",
    "\n",
    "\n",
    "# sub function used to get all values from specific keys\n",
    "def getKeyValues(node_dict,search_key):\n",
    "    result = []\n",
    "    values = [value for key, value in node_dict.items() if search_key in key.lower()]\n",
    "    for val in values: \n",
    "        if type(val) == list:\n",
    "            result.extend(val)\n",
    "        else:\n",
    "            result.append(val)\n",
    "    return result\n",
    "\n",
    "def concatenateRelation(a, b):\n",
    "    return a if a is b else f\"{a} {b}\"\n",
    "\n",
    "# a function to get details of node's sql query.\n",
    "def getSQL(nodeDetails):\n",
    "    sql = {}\n",
    "    sql['select'] = []\n",
    "    sql['relation'] = []\n",
    "    sql['where'] = []\n",
    "    sql['order by'] = []\n",
    "    sql['group by'] = []\n",
    "    if \"Output\" in nodeDetails:\n",
    "        if type(nodeDetails['Output']) == list:\n",
    "            sql['select'].extend(nodeDetails['Output'])\n",
    "        else:\n",
    "            sql['select'].append(nodeDetails['Output'])\n",
    "\n",
    "    if \"Relation Name\" in nodeDetails:\n",
    "        if type(nodeDetails['Relation Name']) == list:\n",
    "            sql['relation'].extend(list(map(concatRelationAlias, nodeDetails['Relation Name'], nodeDetails['Alias'])))\n",
    "        else:\n",
    "            sql['relation'].append(concatRelationAlias(nodeDetails['Relation Name'], nodeDetails['Alias']))\n",
    "\n",
    "    if \"Sort Key\" in nodeDetails:\n",
    "        if type(nodeDetails['Sort Key']) == list:\n",
    "            sql['order by'].extend(nodeDetails['Sort Key'])\n",
    "        else:\n",
    "            sql['order by'].append(nodeDetails['Sort Key'])\n",
    "    if \"Group Key\" in nodeDetails:\n",
    "        if type(nodeDetails['Group Key']) == list:\n",
    "            sql['group by'].extend(nodeDetails['Group Key'])\n",
    "        else:\n",
    "            sql['group by'].append(nodeDetails['Group Key'])\n",
    "    if \"Cond\" in nodeDetails:\n",
    "        if type(nodeDetails['Cond']) == list:\n",
    "            sql['where'].extend(nodeDetails['Cond'])\n",
    "        else:\n",
    "            sql['where'].append(nodeDetails['Cond'])\n",
    "\n",
    "    if \"Filter\" in nodeDetails:\n",
    "        if type(nodeDetails['Filter']) == list:\n",
    "            sql['where'].extend(nodeDetails['Filter'])\n",
    "        else:\n",
    "            sql['where'].append(nodeDetails['Filter'])\n",
    "\n",
    "    sql['where'] = list(set(sql['where']))\n",
    "    return sql\n",
    "\n",
    "# a function to update SQL details with child info node info\n",
    "def updateSQL(nodeSQL,childNodeSQL):\n",
    "    for value in childNodeSQL:\n",
    "        if value == 'result' or value == 'select': continue\n",
    "        nodeSQL[value].extend(childNodeSQL[value])\n",
    "        nodeSQL[value] = list(set(nodeSQL[value])) # remove duplicates\n",
    "    return nodeSQL\n",
    "\n",
    "# function to get query results from pieces of sql\n",
    "def getQueryResults(sqlDetails, results, nodeName):\n",
    "    # execute query and retrieve results.\n",
    "    try:\n",
    "        \n",
    "        if 'Relation Name' in results['node'][nodeName]:\n",
    "            print(results['node'][nodeName]['Node Type'])\n",
    "            if type(results['node'][nodeName]['Alias']) is str:\n",
    "                sqlDetails['select'].insert(0, f'{results[\"node\"][nodeName][\"Alias\"]}.ctid')\n",
    "            else:\n",
    "                for relation in results['node'][nodeName]['Alias']:\n",
    "                    sqlDetails['select'].insert(0, f'{relation}.ctid')\n",
    "        sqlQuery = createQuery(sqlDetails)\n",
    "        result = retrieveResult(sqlQuery, sqlDetails['select'])\n",
    "        #print(\"pass1\")\n",
    "    except:  # error occurs if node requires \"sibling\" node information.\n",
    "\n",
    "        for siblingNode in reversed(results['node'][nodeName]['siblings']):\n",
    "            isUpdated = False\n",
    "            relations = results[\"sql\"][siblingNode][\"relation\"]\n",
    "            for relation in relations:\n",
    "                if relation in sqlDetails['relation']: continue\n",
    "                for filter in sqlDetails['where']:\n",
    "                    if relation in filter:\n",
    "                        sqlDetails['relation'].extend(results[\"sql\"][siblingNode][\"relation\"])\n",
    "                        sqlDetails['relation'] = list(set(sqlDetails['relation']))\n",
    "                        sqlDetails['where'].extend(results[\"sql\"][siblingNode][\"where\"])\n",
    "                        sqlDetails['where'] = list(set(sqlDetails['where']))\n",
    "                        break\n",
    "                if isUpdated: break\n",
    "        sqlQuery = createQuery(sqlDetails)\n",
    "        result = retrieveResult(sqlQuery, sqlDetails['select'])\n",
    "        #print(\"pass2\")\n",
    "    #print(sqlQuery)\n",
    "    \n",
    "    if ('ctid' in \" \".join(sqlDetails['select'])) and  (\"Index\" in results['node'][nodeName][\"Node Type\"]):\n",
    "        if 'Filter' in results['node'][nodeName]:\n",
    "            if results['node'][nodeName]['Filter'] is not list:\n",
    "                results['node'][nodeName]['Cond'] = [].append(results['node'][nodeName]['Filter'])\n",
    "                sqlDetails['where'] = [cond for cond in sqlDetails['where'] if cond not in results['node'][nodeName]['Filter']]\n",
    "                sqlQuery = createQuery(sqlDetails)\n",
    "                accessResult = retrieveResult(sqlQuery, sqlDetails['select'])\n",
    "            else: accessResult = None\n",
    "    else: accessResult = None\n",
    "    return result, accessResult\n",
    "\n",
    "# a function to piece details of query together, return sql query\n",
    "def createQuery(sqlDetails):\n",
    "    # piece query\n",
    "    sqlQuery = \"\"\n",
    "    if len(sqlDetails['select']) > 0: \n",
    "        sqlQuery += \"select \" + \",\".join(sqlDetails['select'])\n",
    "        sqlQuery = sqlQuery.replace(\"PARTIAL\",\"\")\n",
    "    if len(sqlDetails['relation']) > 0: \n",
    "        sqlQuery += \" from \" + \",\".join(sqlDetails['relation'])\n",
    "    if len(sqlDetails['where']) > 0: \n",
    "        sqlQuery += \" where \" + \" AND \".join(sqlDetails['where'])\n",
    "    if len(sqlDetails['group by']) > 0: \n",
    "        sqlQuery += \" group by \" + \",\".join(sqlDetails['group by'])\n",
    "    if len(sqlDetails['order by']) > 0: \n",
    "        sqlQuery += \" order by \" + \",\".join(sqlDetails['order by'])\n",
    "    return sqlQuery\n",
    "\n",
    "def plotQEP(results):\n",
    "    G = pgv.AGraph(directed=True)\n",
    "    G.add_nodes_from(results['vertices'])\n",
    "    G.add_edges_from(results['edges'])\n",
    "\n",
    "    G.write('test.dot')\n",
    "\n",
    "    #create a png file\n",
    "    G.layout(prog='dot') # use dot\n",
    "    G.draw('file.png')"
   ]
  },
  {
   "cell_type": "code",
   "execution_count": 3,
   "outputs": [],
   "source": [
    "sql = '''\n",
    "select\n",
    "      supp_nation,\n",
    "      cust_nation,\n",
    "      l_year,\n",
    "      sum(volume) as revenue\n",
    "    from\n",
    "      (\n",
    "        select\n",
    "          n1.n_name as supp_nation,\n",
    "          n2.n_name as cust_nation,\n",
    "          DATE_PART('YEAR',l_shipdate) as l_year,\n",
    "          l_extendedprice * (1 - l_discount) as volume\n",
    "        from\n",
    "          supplier,\n",
    "          lineitem,\n",
    "          orders,\n",
    "          customer,\n",
    "          nation n1,\n",
    "          nation n2\n",
    "        where\n",
    "          s_suppkey = l_suppkey\n",
    "          and o_orderkey = l_orderkey\n",
    "          and c_custkey = o_custkey\n",
    "          and s_nationkey = n1.n_nationkey\n",
    "          and c_nationkey = n2.n_nationkey\n",
    "          and (\n",
    "            (n1.n_name = 'FRANCE' and n2.n_name = 'GERMANY')\n",
    "            or (n1.n_name = 'GERMANY' and n2.n_name = 'FRANCE')\n",
    "          )\n",
    "          and l_shipdate between '1995-01-01' and '1996-12-31'\n",
    "          and o_totalprice > 100\n",
    "          and c_acctbal > 10\n",
    "      ) as shipping\n",
    "    group by\n",
    "      supp_nation,\n",
    "      cust_nation,\n",
    "      l_year\n",
    "    order by\n",
    "      supp_nation,\n",
    "      cust_nation,\n",
    "      l_year;\n",
    "'''"
   ],
   "metadata": {
    "collapsed": false,
    "ExecuteTime": {
     "end_time": "2023-11-18T10:49:22.247937600Z",
     "start_time": "2023-11-18T10:49:22.240073900Z"
    }
   },
   "id": "b9d1511ccdee7313"
  },
  {
   "cell_type": "code",
   "execution_count": 4,
   "outputs": [],
   "source": [
    "def dora_(sql):\n",
    "    qep = retrieveQEP(sql)\n",
    "    results = breakdown(qep[\"Plan\"])\n",
    "    results['final'] = retrieveResult(sql, qep[\"Plan\"][\"Output\"])\n",
    "    results = getIntermediateResults(results)\n",
    "\n",
    "    def get_results(node):\n",
    "        step = []\n",
    "        result = []\n",
    "        for _ in node['sql'].keys():\n",
    "            temp_res = []\n",
    "            step.append(_)\n",
    "            temp_res.append(node['sql'][_]['result'])\n",
    "            temp_res.append(node['sql'][_].get('accessResult', \"\"))\n",
    "            temp_res.append(node['sql'][_].get('resultBlockAccess', \"\"))\n",
    "            temp_res.append(node['sql'][_].get('accessResultBlockAccess', \"\"))\n",
    "            result.append(temp_res)\n",
    "\n",
    "        return {k.split(\"\\n\")[0] + f\" {_+1}\": v for _, (k, v) in enumerate(zip(step, result))}\n",
    "\n",
    "    return get_results(results)"
   ],
   "metadata": {
    "collapsed": false,
    "ExecuteTime": {
     "end_time": "2023-11-18T10:49:22.974984400Z",
     "start_time": "2023-11-18T10:49:22.969955400Z"
    }
   },
   "id": "8ddeb547cfcaf2ce"
  },
  {
   "cell_type": "code",
   "execution_count": 5,
   "outputs": [
    {
     "name": "stdout",
     "output_type": "stream",
     "text": [
      "<class 'NoneType'>\n",
      "<class 'NoneType'>\n",
      "<class 'NoneType'>\n",
      "<class 'NoneType'>\n",
      "<class 'NoneType'>\n",
      "<class 'NoneType'>\n",
      "<class 'NoneType'>\n",
      "Seq Scan\n",
      "<class 'NoneType'>\n",
      "<class 'NoneType'>\n",
      "<class 'NoneType'>\n",
      "Seq Scan\n",
      "<class 'NoneType'>\n",
      "<class 'NoneType'>\n",
      "Seq Scan\n",
      "<class 'NoneType'>\n",
      "Index Scan\n",
      "<class 'pandas.core.frame.DataFrame'>\n",
      "<class 'NoneType'>\n",
      "<class 'NoneType'>\n",
      "Seq Scan\n",
      "<class 'NoneType'>\n",
      "<class 'NoneType'>\n",
      "Seq Scan\n",
      "<class 'NoneType'>\n"
     ]
    }
   ],
   "source": [
    "res_1 = dora_(sql)"
   ],
   "metadata": {
    "collapsed": false,
    "ExecuteTime": {
     "end_time": "2023-11-18T10:49:43.795664400Z",
     "start_time": "2023-11-18T10:49:23.577092300Z"
    }
   },
   "id": "643a0dcfe91cb102"
  },
  {
   "cell_type": "code",
   "execution_count": 6,
   "outputs": [
    {
     "data": {
      "text/plain": "dict_keys(['Aggregate 1', 'Gather Merge 2', 'Aggregate 3', 'Sort 4', 'Hash Join 5', 'Nested Loop 6', 'Hash Join 7', 'Seq Scan 8', 'Hash 9', 'Hash Join 10', 'Seq Scan 11', 'Hash 12', 'Seq Scan 13', 'Index Scan 14', 'Hash 15', 'Hash Join 16', 'Seq Scan 17', 'Hash 18', 'Seq Scan 19'])"
     },
     "execution_count": 6,
     "metadata": {},
     "output_type": "execute_result"
    }
   ],
   "source": [
    "res_1.keys()"
   ],
   "metadata": {
    "collapsed": false,
    "ExecuteTime": {
     "end_time": "2023-11-18T10:49:43.833538500Z",
     "start_time": "2023-11-18T10:49:43.796675900Z"
    }
   },
   "id": "85dd2823a51d6c12"
  },
  {
   "cell_type": "code",
   "execution_count": 7,
   "outputs": [
    {
     "name": "stdout",
     "output_type": "stream",
     "text": [
      "<class 'pandas.core.frame.DataFrame'>\n",
      "<class 'pandas.core.frame.DataFrame'>\n",
      "<class 'pandas.core.frame.DataFrame'>\n",
      "<class 'pandas.core.frame.DataFrame'>\n",
      "<class 'pandas.core.frame.DataFrame'>\n",
      "<class 'pandas.core.frame.DataFrame'>\n",
      "<class 'pandas.core.frame.DataFrame'>\n",
      "<class 'pandas.core.frame.DataFrame'>\n",
      "<class 'pandas.core.frame.DataFrame'>\n",
      "<class 'pandas.core.frame.DataFrame'>\n",
      "<class 'pandas.core.frame.DataFrame'>\n",
      "<class 'pandas.core.frame.DataFrame'>\n",
      "<class 'pandas.core.frame.DataFrame'>\n",
      "<class 'pandas.core.frame.DataFrame'>\n",
      "<class 'pandas.core.frame.DataFrame'>\n",
      "<class 'pandas.core.frame.DataFrame'>\n",
      "<class 'pandas.core.frame.DataFrame'>\n",
      "<class 'pandas.core.frame.DataFrame'>\n",
      "<class 'pandas.core.frame.DataFrame'>\n"
     ]
    }
   ],
   "source": [
    "for _ in res_1.values():\n",
    "    print(type(_[0]))"
   ],
   "metadata": {
    "collapsed": false,
    "ExecuteTime": {
     "end_time": "2023-11-18T10:49:43.843214900Z",
     "start_time": "2023-11-18T10:49:43.803808100Z"
    }
   },
   "id": "80be8f06e00adf6a"
  },
  {
   "cell_type": "code",
   "execution_count": 8,
   "outputs": [
    {
     "data": {
      "text/plain": "                   n1.n_name                  n2.n_name  \\\n0  FRANCE                     FRANCE                      \n1  FRANCE                     GERMANY                     \n2  GERMANY                    FRANCE                      \n3  GERMANY                    GERMANY                     \n4  FRANCE                     FRANCE                      \n5  FRANCE                     GERMANY                     \n6  GERMANY                    FRANCE                      \n7  GERMANY                    GERMANY                     \n\n   (date_part('YEAR'::text, (lineitem.l_shipdate)::timestamp without time zone))  \\\n0                                             1995.0                               \n1                                             1995.0                               \n2                                             1995.0                               \n3                                             1995.0                               \n4                                             1996.0                               \n5                                             1996.0                               \n6                                             1996.0                               \n7                                             1996.0                               \n\n  sum((lineitem.l_extendedprice * ('1'::numeric - lineitem.l_discount)))  \n0                                      47642155.0837                      \n1                                      50025916.1845                      \n2                                      46987898.9707                      \n3                                      46435741.0955                      \n4                                      48520897.0417                      \n5                                      50115184.6191                      \n6                                      46572584.9332                      \n7                                      47099068.7241                      ",
      "text/html": "<div>\n<style scoped>\n    .dataframe tbody tr th:only-of-type {\n        vertical-align: middle;\n    }\n\n    .dataframe tbody tr th {\n        vertical-align: top;\n    }\n\n    .dataframe thead th {\n        text-align: right;\n    }\n</style>\n<table border=\"1\" class=\"dataframe\">\n  <thead>\n    <tr style=\"text-align: right;\">\n      <th></th>\n      <th>n1.n_name</th>\n      <th>n2.n_name</th>\n      <th>(date_part('YEAR'::text, (lineitem.l_shipdate)::timestamp without time zone))</th>\n      <th>sum((lineitem.l_extendedprice * ('1'::numeric - lineitem.l_discount)))</th>\n    </tr>\n  </thead>\n  <tbody>\n    <tr>\n      <th>0</th>\n      <td>FRANCE</td>\n      <td>FRANCE</td>\n      <td>1995.0</td>\n      <td>47642155.0837</td>\n    </tr>\n    <tr>\n      <th>1</th>\n      <td>FRANCE</td>\n      <td>GERMANY</td>\n      <td>1995.0</td>\n      <td>50025916.1845</td>\n    </tr>\n    <tr>\n      <th>2</th>\n      <td>GERMANY</td>\n      <td>FRANCE</td>\n      <td>1995.0</td>\n      <td>46987898.9707</td>\n    </tr>\n    <tr>\n      <th>3</th>\n      <td>GERMANY</td>\n      <td>GERMANY</td>\n      <td>1995.0</td>\n      <td>46435741.0955</td>\n    </tr>\n    <tr>\n      <th>4</th>\n      <td>FRANCE</td>\n      <td>FRANCE</td>\n      <td>1996.0</td>\n      <td>48520897.0417</td>\n    </tr>\n    <tr>\n      <th>5</th>\n      <td>FRANCE</td>\n      <td>GERMANY</td>\n      <td>1996.0</td>\n      <td>50115184.6191</td>\n    </tr>\n    <tr>\n      <th>6</th>\n      <td>GERMANY</td>\n      <td>FRANCE</td>\n      <td>1996.0</td>\n      <td>46572584.9332</td>\n    </tr>\n    <tr>\n      <th>7</th>\n      <td>GERMANY</td>\n      <td>GERMANY</td>\n      <td>1996.0</td>\n      <td>47099068.7241</td>\n    </tr>\n  </tbody>\n</table>\n</div>"
     },
     "execution_count": 8,
     "metadata": {},
     "output_type": "execute_result"
    }
   ],
   "source": [
    "res_1[\"Aggregate 1\"][0]"
   ],
   "metadata": {
    "collapsed": false,
    "ExecuteTime": {
     "end_time": "2023-11-18T10:49:43.845212200Z",
     "start_time": "2023-11-18T10:49:43.809361300Z"
    }
   },
   "id": "3baa37cbd0540a03"
  },
  {
   "cell_type": "code",
   "execution_count": 9,
   "outputs": [],
   "source": [
    "from PyQt5 import QtCore, QtGui, QtQml\n",
    "import numpy as np\n",
    "import pandas as pd\n",
    "\n",
    "class DataFrameModel(QtCore.QAbstractTableModel):\n",
    "    DtypeRole = QtCore.Qt.UserRole + 1000\n",
    "    ValueRole = QtCore.Qt.UserRole + 1001\n",
    "\n",
    "    def __init__(self, df=pd.DataFrame(), parent=None):\n",
    "        super(DataFrameModel, self).__init__(parent)\n",
    "        self._dataframe = df\n",
    "\n",
    "    def setDataFrame(self, dataframe):\n",
    "        self.beginResetModel()\n",
    "        self._dataframe = dataframe.copy()\n",
    "        self.endResetModel()\n",
    "\n",
    "    def dataFrame(self):\n",
    "        return self._dataframe\n",
    "\n",
    "    dataFrame = QtCore.pyqtProperty(pd.DataFrame, fget=dataFrame, fset=setDataFrame)\n",
    "\n",
    "    @QtCore.pyqtSlot(int, QtCore.Qt.Orientation, result=str)\n",
    "    def headerData(self, section: int, orientation: QtCore.Qt.Orientation, role: int = QtCore.Qt.DisplayRole):\n",
    "        if role == QtCore.Qt.DisplayRole:\n",
    "            if orientation == QtCore.Qt.Horizontal:\n",
    "                return self._dataframe.columns[section]\n",
    "            else:\n",
    "                return str(self._dataframe.index[section])\n",
    "        return QtCore.QVariant()\n",
    "\n",
    "    def rowCount(self, parent=QtCore.QModelIndex()):\n",
    "        if parent.isValid():\n",
    "            return 0\n",
    "        return len(self._dataframe.index)\n",
    "\n",
    "    def columnCount(self, parent=QtCore.QModelIndex()):\n",
    "        if parent.isValid():\n",
    "            return 0\n",
    "        return self._dataframe.columns.size\n",
    "\n",
    "    def data(self, index, role=QtCore.Qt.DisplayRole):\n",
    "        if not index.isValid() or not (0 <= index.row() < self.rowCount() \\\n",
    "            and 0 <= index.column() < self.columnCount()):\n",
    "            return QtCore.QVariant()\n",
    "    \n",
    "        row = index.row()\n",
    "        col = index.column()\n",
    "        val = self._dataframe.iloc[row, col]\n",
    "    \n",
    "        if role == QtCore.Qt.DisplayRole:\n",
    "            return str(val)\n",
    "        elif role == DataFrameModel.ValueRole:\n",
    "            return val\n",
    "        if role == DataFrameModel.DtypeRole:\n",
    "            dt = self._dataframe.dtypes[col]\n",
    "            return dt\n",
    "        return QtCore.QVariant()\n",
    "\n",
    "    def roleNames(self):\n",
    "        roles = {\n",
    "            QtCore.Qt.DisplayRole: b'display',\n",
    "            DataFrameModel.DtypeRole: b'dtype',\n",
    "            DataFrameModel.ValueRole: b'value'\n",
    "        }\n",
    "        return roles"
   ],
   "metadata": {
    "collapsed": false,
    "ExecuteTime": {
     "end_time": "2023-11-18T10:49:56.826502200Z",
     "start_time": "2023-11-18T10:49:56.780718100Z"
    }
   },
   "id": "4a042a527688f204"
  },
  {
   "cell_type": "code",
   "execution_count": null,
   "outputs": [],
   "source": [
    "from PyQt5.QtWidgets import QApplication, QTableView\n",
    "import sys\n",
    "\n",
    "if __name__ == \"__main__\":\n",
    "    app = QApplication(sys.argv)\n",
    "\n",
    "    # Ensure 'res_1' is defined and 'res_1[\"Aggregate 1\"][0]' is a DataFrame\n",
    "    df = pd.DataFrame(res_1[\"Aggregate 1\"][0])\n",
    "\n",
    "    model = DataFrameModel(df)\n",
    "    view = QTableView()\n",
    "    view.setModel(model)\n",
    "    view.resize(800, 600)\n",
    "    view.show()\n",
    "    sys.exit(app.exec_())"
   ],
   "metadata": {
    "collapsed": false,
    "is_executing": true,
    "ExecuteTime": {
     "start_time": "2023-11-18T10:49:59.325843700Z"
    }
   },
   "id": "56a9fd8e1c199b0f"
  },
  {
   "cell_type": "markdown",
   "source": [
    "from PyQt5 import QtCore, QtGui, QtWidgets\n",
    "class Widget(QtWidgets.QWidget):\n",
    "    def __init__(self, df_, parent=None):\n",
    "        self.data = df_\n",
    "        QtWidgets.QWidget.__init__(self, parent=None)\n",
    "        vLayout = QtWidgets.QVBoxLayout(self)\n",
    "        hLayout = QtWidgets.QHBoxLayout()\n",
    "        self.pathLE = QtWidgets.QLineEdit(self)\n",
    "        hLayout.addWidget(self.pathLE)\n",
    "        self.loadBtn = QtWidgets.QPushButton(\"Select File\", self)\n",
    "        hLayout.addWidget(self.loadBtn)\n",
    "        vLayout.addLayout(hLayout)\n",
    "        self.pandasTv = QtWidgets.QTableView(self)\n",
    "        vLayout.addWidget(self.pandasTv)\n",
    "        self.loadBtn.clicked.connect(self.loadFile)\n",
    "        self.pandasTv.setSortingEnabled(True)\n",
    "\n",
    "    def loadFile(self):\n",
    "        df = self.data\n",
    "        model = DataFrameModel(df)\n",
    "        self.pandasTv.setModel(model)"
   ],
   "metadata": {
    "collapsed": false
   },
   "id": "3a84c150bc9b86c8"
  },
  {
   "cell_type": "markdown",
   "source": [],
   "metadata": {
    "collapsed": false
   },
   "id": "7a603f2fc2be1f56"
  },
  {
   "cell_type": "markdown",
   "source": [],
   "metadata": {
    "collapsed": false
   },
   "id": "a645277cfeeef50f"
  },
  {
   "cell_type": "markdown",
   "source": [],
   "metadata": {
    "collapsed": false
   },
   "id": "8d0327323abbed0f"
  },
  {
   "cell_type": "markdown",
   "source": [
    "results = getIntermediateResults(results)"
   ],
   "metadata": {
    "collapsed": false
   },
   "id": "cc81cbea42092862"
  },
  {
   "cell_type": "markdown",
   "source": [],
   "metadata": {
    "collapsed": false
   },
   "id": "bf568f0d99e61b26"
  },
  {
   "cell_type": "markdown",
   "source": [
    "def get_results(node):\n",
    "    step = []\n",
    "    result = []\n",
    "    for _ in node['sql'].keys():\n",
    "        temp_res = []\n",
    "        step.append(_)\n",
    "        temp_res.append(node['sql'][_]['result'])\n",
    "        temp_res.append(node['sql'][_].get('accessResult', 0))\n",
    "        temp_res.append(node['sql'][_].get('resultBlockAccess', 0))\n",
    "        temp_res.append(node['sql'][_].get('accessResultBlockAccess', 0))\n",
    "        result.append(temp_res)\n",
    "\n",
    "    return {k: v for k, v in zip(step, result)}"
   ],
   "metadata": {
    "collapsed": false
   },
   "id": "fe94fcf91ae41e46"
  },
  {
   "cell_type": "markdown",
   "source": [
    "for ite in res.items():\n",
    "    print(ite)\n",
    "    break"
   ],
   "metadata": {
    "collapsed": false
   },
   "id": "c714020273e1cbd"
  },
  {
   "cell_type": "markdown",
   "source": [
    "res = get_results(results)\n",
    "import json\n",
    "with open(\"res.txt\", \"w\") as f:\n",
    "    f.write(str(res))"
   ],
   "metadata": {
    "collapsed": false
   },
   "id": "c186b07f856d89e2"
  },
  {
   "cell_type": "markdown",
   "source": [
    "import json\n",
    "with open(\"res.json\", \"r\") as f:\n",
    "    d1  = json.load(f)\n",
    "    print(type(d1))"
   ],
   "metadata": {
    "collapsed": false
   },
   "id": "4a199534baf07149"
  },
  {
   "cell_type": "markdown",
   "source": [
    "with open(\"res.txt\", \"r\") as f:\n",
    "    d1 = f.read()"
   ],
   "metadata": {
    "collapsed": false
   },
   "id": "f372aed9198681b"
  },
  {
   "cell_type": "markdown",
   "source": [],
   "metadata": {
    "collapsed": false
   },
   "id": "d83d20a9a7887bec"
  },
  {
   "cell_type": "markdown",
   "source": [
    "results['sql'].keys()"
   ],
   "metadata": {
    "collapsed": false
   },
   "id": "a98f210ac222fb47"
  }
 ],
 "metadata": {
  "kernelspec": {
   "display_name": "Python 3",
   "language": "python",
   "name": "python3"
  },
  "language_info": {
   "codemirror_mode": {
    "name": "ipython",
    "version": 2
   },
   "file_extension": ".py",
   "mimetype": "text/x-python",
   "name": "python",
   "nbconvert_exporter": "python",
   "pygments_lexer": "ipython2",
   "version": "2.7.6"
  }
 },
 "nbformat": 4,
 "nbformat_minor": 5
}
